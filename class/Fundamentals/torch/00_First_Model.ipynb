{
 "cells": [
  {
   "metadata": {},
   "cell_type": "markdown",
   "source": [
    "It is highly recommended to use a powerful **GPU**, you can use it for free uploading this notebook to [Google Colab](https://colab.research.google.com/notebooks/intro.ipynb).\n",
    "<table align=\"center\">\n",
    " <td align=\"center\"><a target=\"_blank\" href=\"https://colab.research.google.com/github/ezponda/intro_deep_learning/blob/main/class/Fundamentals/First_Model.ipynb\">\n",
    "        <img src=\"https://i.ibb.co/2P3SLwK/colab.png\"  style=\"padding-bottom:5px;\" />Run in Google Colab</a></td>\n",
    "  <td align=\"center\"><a target=\"_blank\" href=\"https://github.com/ezponda/intro_deep_learning/blob/main/class/Fundamentals/First_Model.ipynb\">\n",
    "        <img src=\"https://i.ibb.co/xfJbPmL/github.png\"  height=\"70px\" style=\"padding-bottom:5px;\"  />View Source on GitHub</a></td>\n",
    "</table>"
   ],
   "id": "f2a00ced472851ff"
  },
  {
   "metadata": {},
   "cell_type": "markdown",
   "source": "## Load and preprocess dataset",
   "id": "a0819ee8aa36aab4"
  },
  {
   "metadata": {
    "collapsed": true,
    "ExecuteTime": {
     "end_time": "2025-04-18T16:19:52.757201Z",
     "start_time": "2025-04-18T16:19:52.750331Z"
    }
   },
   "cell_type": "code",
   "source": [
    "import matplotlib.pyplot as plt\n",
    "from sklearn.datasets import make_moons\n",
    "from sklearn.model_selection import train_test_split\n",
    "from sklearn.preprocessing import StandardScaler\n",
    "\n",
    "# 1. Data\n",
    "X, y = make_moons(n_samples=1000, noise=0.2, random_state=42)\n",
    "X_train, X_test, y_train, y_test = train_test_split(X, y, test_size=0.2, random_state=42)\n",
    "\n",
    "scaler = StandardScaler()\n",
    "X_train = scaler.fit_transform(X_train)\n",
    "X_test = scaler.transform(X_test)"
   ],
   "id": "initial_id",
   "outputs": [],
   "execution_count": 5
  },
  {
   "metadata": {
    "ExecuteTime": {
     "end_time": "2025-04-18T16:19:53.086786Z",
     "start_time": "2025-04-18T16:19:53.083130Z"
    }
   },
   "cell_type": "code",
   "source": [
    "import torch\n",
    "import torch.nn as nn\n",
    "import torch.optim as optim\n",
    "\n",
    "X_train_tensor = torch.tensor(X_train, dtype=torch.float32)\n",
    "X_test_tensor = torch.tensor(X_test, dtype=torch.float32)\n",
    "y_train_tensor = torch.tensor(y_train, dtype=torch.long)\n",
    "y_test_tensor = torch.tensor(y_test, dtype=torch.long)"
   ],
   "id": "8515642b9d29982c",
   "outputs": [],
   "execution_count": 6
  },
  {
   "metadata": {},
   "cell_type": "markdown",
   "source": "## Pytorch Model",
   "id": "a9b83d235209a24a"
  },
  {
   "metadata": {
    "ExecuteTime": {
     "end_time": "2025-04-18T16:20:12.516979Z",
     "start_time": "2025-04-18T16:20:12.513793Z"
    }
   },
   "cell_type": "code",
   "source": [
    "# 2. Model\n",
    "class MLP(nn.Module):\n",
    "    def __init__(self):\n",
    "        super().__init__()\n",
    "        self.net = nn.Sequential(\n",
    "            nn.Linear(2, 16),\n",
    "            nn.ReLU(),\n",
    "            nn.Linear(16, 2)\n",
    "        )\n",
    "\n",
    "    def forward(self, x):\n",
    "        return self.net(x)\n"
   ],
   "id": "258f61b222a74331",
   "outputs": [],
   "execution_count": 8
  },
  {
   "metadata": {
    "ExecuteTime": {
     "end_time": "2025-04-18T16:22:32.860793Z",
     "start_time": "2025-04-18T16:22:32.858224Z"
    }
   },
   "cell_type": "code",
   "source": "model = MLP()",
   "id": "fce91d412f18ffb8",
   "outputs": [],
   "execution_count": 14
  },
  {
   "metadata": {
    "ExecuteTime": {
     "end_time": "2025-04-18T16:22:33.453121Z",
     "start_time": "2025-04-18T16:22:33.450472Z"
    }
   },
   "cell_type": "code",
   "source": "model",
   "id": "c35d3791c43b9889",
   "outputs": [
    {
     "data": {
      "text/plain": [
       "MLP(\n",
       "  (net): Sequential(\n",
       "    (0): Linear(in_features=2, out_features=16, bias=True)\n",
       "    (1): ReLU()\n",
       "    (2): Linear(in_features=16, out_features=2, bias=True)\n",
       "  )\n",
       ")"
      ]
     },
     "execution_count": 15,
     "metadata": {},
     "output_type": "execute_result"
    }
   ],
   "execution_count": 15
  },
  {
   "metadata": {},
   "cell_type": "markdown",
   "source": "## Training",
   "id": "c9e2ce37fadb9bda"
  },
  {
   "metadata": {
    "ExecuteTime": {
     "end_time": "2025-04-18T16:22:37.742330Z",
     "start_time": "2025-04-18T16:22:37.733088Z"
    }
   },
   "cell_type": "code",
   "source": [
    "# 3. Training setup\n",
    "loss_fn = nn.CrossEntropyLoss()\n",
    "optimizer = optim.Adam(model.parameters(), lr=0.01)\n",
    "\n",
    "epochs = 10\n",
    "print_every = 1  # Print loss every 'print_every' epochs\n",
    "\n",
    "# 4. Training loop\n",
    "for epoch in range(epochs):\n",
    "    model.train()\n",
    "    optimizer.zero_grad()\n",
    "    outputs = model(X_train_tensor)\n",
    "    loss = loss_fn(outputs, y_train_tensor)\n",
    "    loss.backward()\n",
    "    optimizer.step()\n",
    "    \n",
    "    if epoch % print_every == 0:\n",
    "        acc = (outputs.argmax(1) == y_train_tensor).float().mean()\n",
    "        print(f\"Epoch {epoch} | Loss: {loss.item():.4f} | Train Acc: {acc:.4f}\")\n"
   ],
   "id": "1961153d295c34c1",
   "outputs": [
    {
     "name": "stdout",
     "output_type": "stream",
     "text": [
      "Epoch 0 | Loss: 0.7495 | Train Acc: 0.5000\n",
      "Epoch 1 | Loss: 0.7043 | Train Acc: 0.5000\n",
      "Epoch 2 | Loss: 0.6629 | Train Acc: 0.5000\n",
      "Epoch 3 | Loss: 0.6247 | Train Acc: 0.5387\n",
      "Epoch 4 | Loss: 0.5895 | Train Acc: 0.6737\n",
      "Epoch 5 | Loss: 0.5570 | Train Acc: 0.7525\n",
      "Epoch 6 | Loss: 0.5274 | Train Acc: 0.7962\n",
      "Epoch 7 | Loss: 0.5003 | Train Acc: 0.8425\n",
      "Epoch 8 | Loss: 0.4756 | Train Acc: 0.8525\n",
      "Epoch 9 | Loss: 0.4532 | Train Acc: 0.8575\n"
     ]
    }
   ],
   "execution_count": 16
  },
  {
   "metadata": {
    "ExecuteTime": {
     "end_time": "2025-04-18T16:22:46.374307Z",
     "start_time": "2025-04-18T16:22:46.371867Z"
    }
   },
   "cell_type": "code",
   "source": "",
   "id": "6c6a765e9ee83a8e",
   "outputs": [],
   "execution_count": null
  },
  {
   "metadata": {},
   "cell_type": "markdown",
   "source": "## Evaluation",
   "id": "d921fc69821bbba4"
  },
  {
   "metadata": {
    "ExecuteTime": {
     "end_time": "2025-04-21T12:08:14.900002Z",
     "start_time": "2025-04-21T12:08:14.880987Z"
    }
   },
   "cell_type": "code",
   "source": [
    "# 5. Evaluation\n",
    "model.eval()"
   ],
   "id": "166ea928049dc5a8",
   "outputs": [
    {
     "data": {
      "text/plain": [
       "MLP(\n",
       "  (net): Sequential(\n",
       "    (0): Linear(in_features=2, out_features=16, bias=True)\n",
       "    (1): ReLU()\n",
       "    (2): Linear(in_features=16, out_features=2, bias=True)\n",
       "  )\n",
       ")"
      ]
     },
     "execution_count": 19,
     "metadata": {},
     "output_type": "execute_result"
    }
   ],
   "execution_count": 19
  },
  {
   "metadata": {
    "ExecuteTime": {
     "end_time": "2025-04-18T16:22:47.684704Z",
     "start_time": "2025-04-18T16:22:47.680249Z"
    }
   },
   "cell_type": "code",
   "source": [
    "with torch.no_grad():\n",
    "    test_outputs = model(X_test_tensor)\n",
    "    test_preds = test_outputs.argmax(1)\n",
    "    test_acc = (test_preds == y_test_tensor).float().mean()\n",
    "    print(f\"\\nTest Accuracy: {test_acc:.4f}\")"
   ],
   "id": "febd405e82ac1d39",
   "outputs": [
    {
     "name": "stdout",
     "output_type": "stream",
     "text": [
      "\n",
      "Test Accuracy: 0.8500\n"
     ]
    }
   ],
   "execution_count": 18
  },
  {
   "metadata": {
    "ExecuteTime": {
     "end_time": "2025-04-21T12:08:48.657577Z",
     "start_time": "2025-04-21T12:08:48.654506Z"
    }
   },
   "cell_type": "code",
   "source": "",
   "id": "d324de7dc30be6b4",
   "outputs": [],
   "execution_count": null
  },
  {
   "metadata": {},
   "cell_type": "code",
   "outputs": [],
   "execution_count": null,
   "source": "",
   "id": "467880128f8b9bad"
  }
 ],
 "metadata": {
  "kernelspec": {
   "display_name": "Python 3",
   "language": "python",
   "name": "python3"
  },
  "language_info": {
   "codemirror_mode": {
    "name": "ipython",
    "version": 2
   },
   "file_extension": ".py",
   "mimetype": "text/x-python",
   "name": "python",
   "nbconvert_exporter": "python",
   "pygments_lexer": "ipython2",
   "version": "2.7.6"
  }
 },
 "nbformat": 4,
 "nbformat_minor": 5
}
