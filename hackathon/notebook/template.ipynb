{
 "cells": [
  {
   "cell_type": "markdown",
   "metadata": {},
   "source": [
    "Change cell bellow to point to your fork !"
   ]
  },
  {
   "cell_type": "markdown",
   "metadata": {},
   "source": [
    "<a href=\"https://colab.research.google.com/github/PabloRR100/intro_deep_learning/blob/main/hackathon/notebook/template.ipynb\" target=\"_parent\"><img src=\"https://colab.research.google.com/assets/colab-badge.svg\" alt=\"Open In Colab\"/></a>"
   ]
  },
  {
   "cell_type": "markdown",
   "metadata": {},
   "source": [
    "# 1. Similarity Engine\n",
    "\n",
    "Build a similarity engine using pre-trained compute vision models"
   ]
  },
  {
   "cell_type": "code",
   "execution_count": null,
   "metadata": {},
   "outputs": [],
   "source": [
    "import os\n",
    "import torch"
   ]
  },
  {
   "cell_type": "code",
   "execution_count": 3,
   "metadata": {},
   "outputs": [],
   "source": [
    "# --- 1. Load Pretrained Model (Feature Extractor) ---\n",
    "def get_model():\n",
    "    pass"
   ]
  },
  {
   "cell_type": "code",
   "execution_count": 4,
   "metadata": {},
   "outputs": [],
   "source": [
    "# --- 2. Compute Embedding for a Single Image ---\n",
    "def get_embedding(model, img_path):\n",
    "    pass"
   ]
  },
  {
   "cell_type": "code",
   "execution_count": null,
   "metadata": {},
   "outputs": [],
   "source": [
    "# --- 3. Walk Dataset Folder & Compute All Embeddings ---\n",
    "# 4. Compute all embeddings from the data/ folder structure\n",
    "def compute_embeddings(\n",
    "    model: torch.nn.Module,\n",
    "    data_root: str | os.PathLike,\n",
    "):\n",
    "    embeddings = []\n",
    "    for pokemon_name in os.listdir(data_root):\n",
    "        class_dir = os.path.join(data_root, pokemon_name)\n",
    "        if not os.path.isdir(class_dir):\n",
    "            continue\n",
    "\n",
    "        for img_file in os.listdir(class_dir):\n",
    "            img_path = os.path.join(class_dir, img_file)\n",
    "            if not img_file.lower().endswith((\".jpg\", \".jpeg\", \".png\")):\n",
    "                continue\n",
    "            try:\n",
    "                emb = get_embedding(model, img_path)\n",
    "                embeddings.append({\n",
    "                    \"label\": pokemon_name,\n",
    "                    \"img_path\": img_path,\n",
    "                    \"embedding\": emb,\n",
    "                })\n",
    "                print(f\"✅ {img_file} -> {pokemon_name}\")\n",
    "            except Exception as e:\n",
    "                print(f\"❌ Skipping {img_file}: {e}\")\n",
    "\n",
    "    return embeddings\n"
   ]
  },
  {
   "cell_type": "code",
   "execution_count": 5,
   "metadata": {},
   "outputs": [],
   "source": [
    "# --- Cosine Similarity ---\n",
    "def cosine_similarity(a, b):\n",
    "    \"\"\"\n",
    "    Compute cosine similarity between two vectors.\n",
    "    \"\"\"\n",
    "    pass"
   ]
  },
  {
   "cell_type": "code",
   "execution_count": 8,
   "metadata": {},
   "outputs": [],
   "source": [
    "# --- Single Image Similarity ---\n",
    "def compute_similarity_for_image(img_path, expected_label, model, db):\n",
    "    \"\"\"\n",
    "    Compute similarity scores between a test image and all database embeddings.\n",
    "    Return \n",
    "    \n",
    "    Args:\n",
    "        img_path: Path to the test image\n",
    "        expected_label: Expected Pokemon label for the test image\n",
    "        model: CNN/ViT model for feature extraction\n",
    "        db: Database of Pokemon embeddings\n",
    "    \"\"\"\n",
    "    pass"
   ]
  },
  {
   "cell_type": "code",
   "execution_count": 11,
   "metadata": {},
   "outputs": [],
   "source": [
    "# --- Dataset Loop ---\n",
    "def compute_similarity_for_dataset(test_dir, db_path):\n",
    "    \"\"\"\n",
    "    Compute similarity scores for all images in the test dataset.\n",
    "    \n",
    "    Args:\n",
    "        test_dir: Directory containing test images organized by Pokemon\n",
    "        db_path: Path to the pickle file containing database embeddings\n",
    "    \"\"\""
   ]
  },
  {
   "cell_type": "code",
   "execution_count": null,
   "metadata": {},
   "outputs": [],
   "source": [
    "PROJECT_ROOT = \"Add here the path\"\n",
    "EMBEDDINGS_PATH = PROJECT_ROOT / \"data/embeddings/pokemon_embeddings_vit.pkl\"\n",
    "TESTING_DATASET_PATH = PROJECT_ROOT / \"data/testing\"\n",
    "\n",
    "compute_similarity_for_dataset(\n",
    "    test_dir=TESTING_DATASET_PATH,\n",
    "    db_path=EMBEDDINGS_PATH,\n",
    ")"
   ]
  },
  {
   "cell_type": "markdown",
   "metadata": {},
   "source": []
  }
 ],
 "metadata": {
  "kernelspec": {
   "display_name": ".venv",
   "language": "python",
   "name": "python3"
  },
  "language_info": {
   "codemirror_mode": {
    "name": "ipython",
    "version": 3
   },
   "file_extension": ".py",
   "mimetype": "text/x-python",
   "name": "python",
   "nbconvert_exporter": "python",
   "pygments_lexer": "ipython3",
   "version": "3.11.9"
  }
 },
 "nbformat": 4,
 "nbformat_minor": 2
}
